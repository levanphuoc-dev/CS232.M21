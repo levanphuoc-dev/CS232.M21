{
  "cells": [
    {
      "cell_type": "markdown",
      "metadata": {
        "id": "dHBP5xzmrM4U"
      },
      "source": [
        "# Neural Machine Translation (NMT) - Translating English sentences to Vietnam sentences\n",
        "\n",
        "Machine Translation refers to translating phrases across languages using deep learning and specifically with RNN ( Recurrent Neural Nets ). Most of these are complex systems that is they are a combined system of various algorithms. But, at its core, NMT uses sequence-to-sequence ( seq2seq ) RNN cells. Such models could be character level but word level models remain common.\n",
        "\n",
        "![NMT system](https://3.bp.blogspot.com/-3Pbj_dvt0Vo/V-qe-Nl6P5I/AAAAAAAABQc/z0_6WtVWtvARtMk0i9_AtLeyyGyV6AI4wCLcB/s1600/nmt-model-fast.gif)\n",
        "\n",
        "I insist to change the runtime to a GPU runtime so that training could be faster."
      ]
    },
    {
      "cell_type": "markdown",
      "metadata": {
        "id": "IVPRC0bOtBas"
      },
      "source": [
        "## What are we going to do?\n",
        "We will basically create an encoder-decoder LSTM model using [Keras Functional API](https://www.tensorflow.org/alpha/guide/keras/functional) ( with [TensorFlow](https://www.tensorflow.org/) ). We will convert the English sentences to VietNam, but why VietNam\n",
        "\n",
        "\n",
        "*   Has special characters and much complex.\n",
        "\n",
        "\n",
        "Here's an example,\n",
        "\n",
        "Hello --> Xin chào\n",
        "\n",
        "So, let's get started.\n",
        "\n"
      ]
    },
    {
      "cell_type": "markdown",
      "metadata": {
        "id": "a_r70epHozOt"
      },
      "source": [
        "## Preparing the Data"
      ]
    },
    {
      "cell_type": "markdown",
      "metadata": {
        "id": "Yq4aH4u1uq5V"
      },
      "source": [
        "### 1) Importing the libraries\n",
        "\n",
        "We will import TensorFlow and Keras. From Keras, we import various modules which help in building NN layers, preprocess data and construct LSTM models."
      ]
    },
    {
      "cell_type": "code",
      "execution_count": 1,
      "metadata": {
        "id": "qK2TWV1nm48Q"
      },
      "outputs": [],
      "source": [
        "import numpy as np\n",
        "import tensorflow as tf\n",
        "from tensorflow.keras import layers , activations , models , preprocessing , utils\n",
        "import pandas as pd\n",
        "import json\n",
        "import os\n",
        "import pickle"
      ]
    },
    {
      "cell_type": "code",
      "source": [
        "from google.colab import drive\n",
        "drive.mount('/content/drive')\n",
        "path_to_save = \"/content/drive/MyDrive/Colab Notebooks/LSTM\""
      ],
      "metadata": {
        "colab": {
          "base_uri": "https://localhost:8080/"
        },
        "id": "8gNBpE-SFtqY",
        "outputId": "a43b8fdb-0ca2-47ad-d203-1337e736929e"
      },
      "execution_count": 2,
      "outputs": [
        {
          "output_type": "stream",
          "name": "stdout",
          "text": [
            "Drive already mounted at /content/drive; to attempt to forcibly remount, call drive.mount(\"/content/drive\", force_remount=True).\n"
          ]
        }
      ]
    },
    {
      "cell_type": "markdown",
      "metadata": {
        "id": "NnIg8HdTGW4o"
      },
      "source": [
        "### 2) Reading the data\n",
        "\n",
        "\n",
        "Our dataset which contains more than 30K pairs of English-VietNam phrases. This amazing dataset is available at http://www.manythings.org/anki/ and it also other 50+ sets of bilingual sentences. We download the dataset for English-VietNam phrases, unzip it and read it using [Pandas](https://pandas.pydata.org/)."
      ]
    },
    {
      "cell_type": "code",
      "execution_count": 3,
      "metadata": {
        "colab": {
          "base_uri": "https://localhost:8080/"
        },
        "id": "27OzmS-MIymc",
        "outputId": "270c1ac9-9c10-4de8-f8c9-7dc4ed04b586"
      },
      "outputs": [
        {
          "output_type": "stream",
          "name": "stdout",
          "text": [
            "--2022-06-22 06:27:33--  http://www.manythings.org/anki/vie-eng.zip\n",
            "Resolving www.manythings.org (www.manythings.org)... 104.21.92.44, 172.67.186.54, 2606:4700:3033::ac43:ba36, ...\n",
            "Connecting to www.manythings.org (www.manythings.org)|104.21.92.44|:80... connected.\n",
            "HTTP request sent, awaiting response... 200 OK\n",
            "Length: 320614 (313K) [application/zip]\n",
            "Saving to: ‘vie-eng.zip’\n",
            "\n",
            "vie-eng.zip         100%[===================>] 313.10K  --.-KB/s    in 0.03s   \n",
            "\n",
            "2022-06-22 06:27:33 (9.82 MB/s) - ‘vie-eng.zip’ saved [320614/320614]\n",
            "\n",
            "Archive:  vie-eng.zip\n",
            "replace _about.txt? [y]es, [n]o, [A]ll, [N]one, [r]ename: y\n",
            "  inflating: _about.txt              \n",
            "replace vie.txt? [y]es, [n]o, [A]ll, [N]one, [r]ename: y\n",
            "  inflating: vie.txt                 \n"
          ]
        }
      ],
      "source": [
        "\n",
        "!wget http://www.manythings.org/anki/vie-eng.zip -O vie-eng.zip\n",
        "!unzip vie-eng.zip\n"
      ]
    },
    {
      "cell_type": "code",
      "execution_count": 4,
      "metadata": {
        "id": "wKCgjP61nxxO"
      },
      "outputs": [],
      "source": [
        "lines = pd.read_table( 'vie.txt' , names=[ 'eng' , 'vie' ] )"
      ]
    },
    {
      "cell_type": "code",
      "execution_count": 5,
      "metadata": {
        "id": "JsCTBHaOn6qu"
      },
      "outputs": [],
      "source": [
        "lines.reset_index( level=0 , inplace=True )"
      ]
    },
    {
      "cell_type": "code",
      "execution_count": 6,
      "metadata": {
        "colab": {
          "base_uri": "https://localhost:8080/",
          "height": 424
        },
        "id": "3hFTEqE7n74G",
        "outputId": "aa2506d7-7a6d-4181-ad8c-15655efde30a"
      },
      "outputs": [
        {
          "output_type": "execute_result",
          "data": {
            "text/plain": [
              "                                                  index  \\\n",
              "0                                                  Run!   \n",
              "1                                                 Help!   \n",
              "2                                                Go on.   \n",
              "3                                                Hello!   \n",
              "4                                                Hurry!   \n",
              "...                                                 ...   \n",
              "8045  In 2009, Selena Gomez became the youngest pers...   \n",
              "8046  In 2009, Selena Gomez became the youngest pers...   \n",
              "8047  In 2009, Selena Gomez became the youngest pers...   \n",
              "8048  The people here are particular about what they...   \n",
              "8049  No matter how much you try to convince people ...   \n",
              "\n",
              "                                                    eng  \\\n",
              "0                                                 Chạy!   \n",
              "1                                         Giúp tôi với!   \n",
              "2                                          Tiếp tục đi.   \n",
              "3                                             Chào bạn.   \n",
              "4                                        Nhanh lên nào!   \n",
              "...                                                 ...   \n",
              "8045  Vào năm 2009, Sê-lê-na Gô-mét đã được lựa chọn...   \n",
              "8046  Vào năm 2009, Selena Gomez đã được lựa chọn để...   \n",
              "8047  Vào năm 2009, Selena Gomez đã trở thành Đại sứ...   \n",
              "8048  Những người ở đây khá là khó tính về khẩu vị ă...   \n",
              "8049  Cho dù bạn có thuyết phục mọi người rằng sô-cô...   \n",
              "\n",
              "                                                    vie  \n",
              "0     CC-BY 2.0 (France) Attribution: tatoeba.org #9...  \n",
              "1     CC-BY 2.0 (France) Attribution: tatoeba.org #4...  \n",
              "2     CC-BY 2.0 (France) Attribution: tatoeba.org #2...  \n",
              "3     CC-BY 2.0 (France) Attribution: tatoeba.org #3...  \n",
              "4     CC-BY 2.0 (France) Attribution: tatoeba.org #1...  \n",
              "...                                                 ...  \n",
              "8045  CC-BY 2.0 (France) Attribution: tatoeba.org #5...  \n",
              "8046  CC-BY 2.0 (France) Attribution: tatoeba.org #5...  \n",
              "8047  CC-BY 2.0 (France) Attribution: tatoeba.org #5...  \n",
              "8048  CC-BY 2.0 (France) Attribution: tatoeba.org #2...  \n",
              "8049  CC-BY 2.0 (France) Attribution: tatoeba.org #9...  \n",
              "\n",
              "[8050 rows x 3 columns]"
            ],
            "text/html": [
              "\n",
              "  <div id=\"df-896a116f-eadc-4df6-8434-fcc8b73d01a3\">\n",
              "    <div class=\"colab-df-container\">\n",
              "      <div>\n",
              "<style scoped>\n",
              "    .dataframe tbody tr th:only-of-type {\n",
              "        vertical-align: middle;\n",
              "    }\n",
              "\n",
              "    .dataframe tbody tr th {\n",
              "        vertical-align: top;\n",
              "    }\n",
              "\n",
              "    .dataframe thead th {\n",
              "        text-align: right;\n",
              "    }\n",
              "</style>\n",
              "<table border=\"1\" class=\"dataframe\">\n",
              "  <thead>\n",
              "    <tr style=\"text-align: right;\">\n",
              "      <th></th>\n",
              "      <th>index</th>\n",
              "      <th>eng</th>\n",
              "      <th>vie</th>\n",
              "    </tr>\n",
              "  </thead>\n",
              "  <tbody>\n",
              "    <tr>\n",
              "      <th>0</th>\n",
              "      <td>Run!</td>\n",
              "      <td>Chạy!</td>\n",
              "      <td>CC-BY 2.0 (France) Attribution: tatoeba.org #9...</td>\n",
              "    </tr>\n",
              "    <tr>\n",
              "      <th>1</th>\n",
              "      <td>Help!</td>\n",
              "      <td>Giúp tôi với!</td>\n",
              "      <td>CC-BY 2.0 (France) Attribution: tatoeba.org #4...</td>\n",
              "    </tr>\n",
              "    <tr>\n",
              "      <th>2</th>\n",
              "      <td>Go on.</td>\n",
              "      <td>Tiếp tục đi.</td>\n",
              "      <td>CC-BY 2.0 (France) Attribution: tatoeba.org #2...</td>\n",
              "    </tr>\n",
              "    <tr>\n",
              "      <th>3</th>\n",
              "      <td>Hello!</td>\n",
              "      <td>Chào bạn.</td>\n",
              "      <td>CC-BY 2.0 (France) Attribution: tatoeba.org #3...</td>\n",
              "    </tr>\n",
              "    <tr>\n",
              "      <th>4</th>\n",
              "      <td>Hurry!</td>\n",
              "      <td>Nhanh lên nào!</td>\n",
              "      <td>CC-BY 2.0 (France) Attribution: tatoeba.org #1...</td>\n",
              "    </tr>\n",
              "    <tr>\n",
              "      <th>...</th>\n",
              "      <td>...</td>\n",
              "      <td>...</td>\n",
              "      <td>...</td>\n",
              "    </tr>\n",
              "    <tr>\n",
              "      <th>8045</th>\n",
              "      <td>In 2009, Selena Gomez became the youngest pers...</td>\n",
              "      <td>Vào năm 2009, Sê-lê-na Gô-mét đã được lựa chọn...</td>\n",
              "      <td>CC-BY 2.0 (France) Attribution: tatoeba.org #5...</td>\n",
              "    </tr>\n",
              "    <tr>\n",
              "      <th>8046</th>\n",
              "      <td>In 2009, Selena Gomez became the youngest pers...</td>\n",
              "      <td>Vào năm 2009, Selena Gomez đã được lựa chọn để...</td>\n",
              "      <td>CC-BY 2.0 (France) Attribution: tatoeba.org #5...</td>\n",
              "    </tr>\n",
              "    <tr>\n",
              "      <th>8047</th>\n",
              "      <td>In 2009, Selena Gomez became the youngest pers...</td>\n",
              "      <td>Vào năm 2009, Selena Gomez đã trở thành Đại sứ...</td>\n",
              "      <td>CC-BY 2.0 (France) Attribution: tatoeba.org #5...</td>\n",
              "    </tr>\n",
              "    <tr>\n",
              "      <th>8048</th>\n",
              "      <td>The people here are particular about what they...</td>\n",
              "      <td>Những người ở đây khá là khó tính về khẩu vị ă...</td>\n",
              "      <td>CC-BY 2.0 (France) Attribution: tatoeba.org #2...</td>\n",
              "    </tr>\n",
              "    <tr>\n",
              "      <th>8049</th>\n",
              "      <td>No matter how much you try to convince people ...</td>\n",
              "      <td>Cho dù bạn có thuyết phục mọi người rằng sô-cô...</td>\n",
              "      <td>CC-BY 2.0 (France) Attribution: tatoeba.org #9...</td>\n",
              "    </tr>\n",
              "  </tbody>\n",
              "</table>\n",
              "<p>8050 rows × 3 columns</p>\n",
              "</div>\n",
              "      <button class=\"colab-df-convert\" onclick=\"convertToInteractive('df-896a116f-eadc-4df6-8434-fcc8b73d01a3')\"\n",
              "              title=\"Convert this dataframe to an interactive table.\"\n",
              "              style=\"display:none;\">\n",
              "        \n",
              "  <svg xmlns=\"http://www.w3.org/2000/svg\" height=\"24px\"viewBox=\"0 0 24 24\"\n",
              "       width=\"24px\">\n",
              "    <path d=\"M0 0h24v24H0V0z\" fill=\"none\"/>\n",
              "    <path d=\"M18.56 5.44l.94 2.06.94-2.06 2.06-.94-2.06-.94-.94-2.06-.94 2.06-2.06.94zm-11 1L8.5 8.5l.94-2.06 2.06-.94-2.06-.94L8.5 2.5l-.94 2.06-2.06.94zm10 10l.94 2.06.94-2.06 2.06-.94-2.06-.94-.94-2.06-.94 2.06-2.06.94z\"/><path d=\"M17.41 7.96l-1.37-1.37c-.4-.4-.92-.59-1.43-.59-.52 0-1.04.2-1.43.59L10.3 9.45l-7.72 7.72c-.78.78-.78 2.05 0 2.83L4 21.41c.39.39.9.59 1.41.59.51 0 1.02-.2 1.41-.59l7.78-7.78 2.81-2.81c.8-.78.8-2.07 0-2.86zM5.41 20L4 18.59l7.72-7.72 1.47 1.35L5.41 20z\"/>\n",
              "  </svg>\n",
              "      </button>\n",
              "      \n",
              "  <style>\n",
              "    .colab-df-container {\n",
              "      display:flex;\n",
              "      flex-wrap:wrap;\n",
              "      gap: 12px;\n",
              "    }\n",
              "\n",
              "    .colab-df-convert {\n",
              "      background-color: #E8F0FE;\n",
              "      border: none;\n",
              "      border-radius: 50%;\n",
              "      cursor: pointer;\n",
              "      display: none;\n",
              "      fill: #1967D2;\n",
              "      height: 32px;\n",
              "      padding: 0 0 0 0;\n",
              "      width: 32px;\n",
              "    }\n",
              "\n",
              "    .colab-df-convert:hover {\n",
              "      background-color: #E2EBFA;\n",
              "      box-shadow: 0px 1px 2px rgba(60, 64, 67, 0.3), 0px 1px 3px 1px rgba(60, 64, 67, 0.15);\n",
              "      fill: #174EA6;\n",
              "    }\n",
              "\n",
              "    [theme=dark] .colab-df-convert {\n",
              "      background-color: #3B4455;\n",
              "      fill: #D2E3FC;\n",
              "    }\n",
              "\n",
              "    [theme=dark] .colab-df-convert:hover {\n",
              "      background-color: #434B5C;\n",
              "      box-shadow: 0px 1px 3px 1px rgba(0, 0, 0, 0.15);\n",
              "      filter: drop-shadow(0px 1px 2px rgba(0, 0, 0, 0.3));\n",
              "      fill: #FFFFFF;\n",
              "    }\n",
              "  </style>\n",
              "\n",
              "      <script>\n",
              "        const buttonEl =\n",
              "          document.querySelector('#df-896a116f-eadc-4df6-8434-fcc8b73d01a3 button.colab-df-convert');\n",
              "        buttonEl.style.display =\n",
              "          google.colab.kernel.accessAllowed ? 'block' : 'none';\n",
              "\n",
              "        async function convertToInteractive(key) {\n",
              "          const element = document.querySelector('#df-896a116f-eadc-4df6-8434-fcc8b73d01a3');\n",
              "          const dataTable =\n",
              "            await google.colab.kernel.invokeFunction('convertToInteractive',\n",
              "                                                     [key], {});\n",
              "          if (!dataTable) return;\n",
              "\n",
              "          const docLinkHtml = 'Like what you see? Visit the ' +\n",
              "            '<a target=\"_blank\" href=https://colab.research.google.com/notebooks/data_table.ipynb>data table notebook</a>'\n",
              "            + ' to learn more about interactive tables.';\n",
              "          element.innerHTML = '';\n",
              "          dataTable['output_type'] = 'display_data';\n",
              "          await google.colab.output.renderOutput(dataTable, element);\n",
              "          const docLink = document.createElement('div');\n",
              "          docLink.innerHTML = docLinkHtml;\n",
              "          element.appendChild(docLink);\n",
              "        }\n",
              "      </script>\n",
              "    </div>\n",
              "  </div>\n",
              "  "
            ]
          },
          "metadata": {},
          "execution_count": 6
        }
      ],
      "source": [
        "lines"
      ]
    },
    {
      "cell_type": "code",
      "execution_count": 7,
      "metadata": {
        "id": "g_ads9smoIOo"
      },
      "outputs": [],
      "source": [
        "lines.rename( columns={ 'index' : 'eng' , 'eng' : 'vie' , 'vie' : 'c' } , inplace=True )"
      ]
    },
    {
      "cell_type": "code",
      "source": [
        "lines.head()"
      ],
      "metadata": {
        "colab": {
          "base_uri": "https://localhost:8080/",
          "height": 206
        },
        "id": "ukpTM4BpVqNc",
        "outputId": "e3668f05-0c0b-4d21-b158-0164c0bd756f"
      },
      "execution_count": 8,
      "outputs": [
        {
          "output_type": "execute_result",
          "data": {
            "text/plain": [
              "      eng             vie                                                  c\n",
              "0    Run!           Chạy!  CC-BY 2.0 (France) Attribution: tatoeba.org #9...\n",
              "1   Help!   Giúp tôi với!  CC-BY 2.0 (France) Attribution: tatoeba.org #4...\n",
              "2  Go on.    Tiếp tục đi.  CC-BY 2.0 (France) Attribution: tatoeba.org #2...\n",
              "3  Hello!       Chào bạn.  CC-BY 2.0 (France) Attribution: tatoeba.org #3...\n",
              "4  Hurry!  Nhanh lên nào!  CC-BY 2.0 (France) Attribution: tatoeba.org #1..."
            ],
            "text/html": [
              "\n",
              "  <div id=\"df-d96c228e-2624-4e8c-80d4-2f6b0568b85a\">\n",
              "    <div class=\"colab-df-container\">\n",
              "      <div>\n",
              "<style scoped>\n",
              "    .dataframe tbody tr th:only-of-type {\n",
              "        vertical-align: middle;\n",
              "    }\n",
              "\n",
              "    .dataframe tbody tr th {\n",
              "        vertical-align: top;\n",
              "    }\n",
              "\n",
              "    .dataframe thead th {\n",
              "        text-align: right;\n",
              "    }\n",
              "</style>\n",
              "<table border=\"1\" class=\"dataframe\">\n",
              "  <thead>\n",
              "    <tr style=\"text-align: right;\">\n",
              "      <th></th>\n",
              "      <th>eng</th>\n",
              "      <th>vie</th>\n",
              "      <th>c</th>\n",
              "    </tr>\n",
              "  </thead>\n",
              "  <tbody>\n",
              "    <tr>\n",
              "      <th>0</th>\n",
              "      <td>Run!</td>\n",
              "      <td>Chạy!</td>\n",
              "      <td>CC-BY 2.0 (France) Attribution: tatoeba.org #9...</td>\n",
              "    </tr>\n",
              "    <tr>\n",
              "      <th>1</th>\n",
              "      <td>Help!</td>\n",
              "      <td>Giúp tôi với!</td>\n",
              "      <td>CC-BY 2.0 (France) Attribution: tatoeba.org #4...</td>\n",
              "    </tr>\n",
              "    <tr>\n",
              "      <th>2</th>\n",
              "      <td>Go on.</td>\n",
              "      <td>Tiếp tục đi.</td>\n",
              "      <td>CC-BY 2.0 (France) Attribution: tatoeba.org #2...</td>\n",
              "    </tr>\n",
              "    <tr>\n",
              "      <th>3</th>\n",
              "      <td>Hello!</td>\n",
              "      <td>Chào bạn.</td>\n",
              "      <td>CC-BY 2.0 (France) Attribution: tatoeba.org #3...</td>\n",
              "    </tr>\n",
              "    <tr>\n",
              "      <th>4</th>\n",
              "      <td>Hurry!</td>\n",
              "      <td>Nhanh lên nào!</td>\n",
              "      <td>CC-BY 2.0 (France) Attribution: tatoeba.org #1...</td>\n",
              "    </tr>\n",
              "  </tbody>\n",
              "</table>\n",
              "</div>\n",
              "      <button class=\"colab-df-convert\" onclick=\"convertToInteractive('df-d96c228e-2624-4e8c-80d4-2f6b0568b85a')\"\n",
              "              title=\"Convert this dataframe to an interactive table.\"\n",
              "              style=\"display:none;\">\n",
              "        \n",
              "  <svg xmlns=\"http://www.w3.org/2000/svg\" height=\"24px\"viewBox=\"0 0 24 24\"\n",
              "       width=\"24px\">\n",
              "    <path d=\"M0 0h24v24H0V0z\" fill=\"none\"/>\n",
              "    <path d=\"M18.56 5.44l.94 2.06.94-2.06 2.06-.94-2.06-.94-.94-2.06-.94 2.06-2.06.94zm-11 1L8.5 8.5l.94-2.06 2.06-.94-2.06-.94L8.5 2.5l-.94 2.06-2.06.94zm10 10l.94 2.06.94-2.06 2.06-.94-2.06-.94-.94-2.06-.94 2.06-2.06.94z\"/><path d=\"M17.41 7.96l-1.37-1.37c-.4-.4-.92-.59-1.43-.59-.52 0-1.04.2-1.43.59L10.3 9.45l-7.72 7.72c-.78.78-.78 2.05 0 2.83L4 21.41c.39.39.9.59 1.41.59.51 0 1.02-.2 1.41-.59l7.78-7.78 2.81-2.81c.8-.78.8-2.07 0-2.86zM5.41 20L4 18.59l7.72-7.72 1.47 1.35L5.41 20z\"/>\n",
              "  </svg>\n",
              "      </button>\n",
              "      \n",
              "  <style>\n",
              "    .colab-df-container {\n",
              "      display:flex;\n",
              "      flex-wrap:wrap;\n",
              "      gap: 12px;\n",
              "    }\n",
              "\n",
              "    .colab-df-convert {\n",
              "      background-color: #E8F0FE;\n",
              "      border: none;\n",
              "      border-radius: 50%;\n",
              "      cursor: pointer;\n",
              "      display: none;\n",
              "      fill: #1967D2;\n",
              "      height: 32px;\n",
              "      padding: 0 0 0 0;\n",
              "      width: 32px;\n",
              "    }\n",
              "\n",
              "    .colab-df-convert:hover {\n",
              "      background-color: #E2EBFA;\n",
              "      box-shadow: 0px 1px 2px rgba(60, 64, 67, 0.3), 0px 1px 3px 1px rgba(60, 64, 67, 0.15);\n",
              "      fill: #174EA6;\n",
              "    }\n",
              "\n",
              "    [theme=dark] .colab-df-convert {\n",
              "      background-color: #3B4455;\n",
              "      fill: #D2E3FC;\n",
              "    }\n",
              "\n",
              "    [theme=dark] .colab-df-convert:hover {\n",
              "      background-color: #434B5C;\n",
              "      box-shadow: 0px 1px 3px 1px rgba(0, 0, 0, 0.15);\n",
              "      filter: drop-shadow(0px 1px 2px rgba(0, 0, 0, 0.3));\n",
              "      fill: #FFFFFF;\n",
              "    }\n",
              "  </style>\n",
              "\n",
              "      <script>\n",
              "        const buttonEl =\n",
              "          document.querySelector('#df-d96c228e-2624-4e8c-80d4-2f6b0568b85a button.colab-df-convert');\n",
              "        buttonEl.style.display =\n",
              "          google.colab.kernel.accessAllowed ? 'block' : 'none';\n",
              "\n",
              "        async function convertToInteractive(key) {\n",
              "          const element = document.querySelector('#df-d96c228e-2624-4e8c-80d4-2f6b0568b85a');\n",
              "          const dataTable =\n",
              "            await google.colab.kernel.invokeFunction('convertToInteractive',\n",
              "                                                     [key], {});\n",
              "          if (!dataTable) return;\n",
              "\n",
              "          const docLinkHtml = 'Like what you see? Visit the ' +\n",
              "            '<a target=\"_blank\" href=https://colab.research.google.com/notebooks/data_table.ipynb>data table notebook</a>'\n",
              "            + ' to learn more about interactive tables.';\n",
              "          element.innerHTML = '';\n",
              "          dataTable['output_type'] = 'display_data';\n",
              "          await google.colab.output.renderOutput(dataTable, element);\n",
              "          const docLink = document.createElement('div');\n",
              "          docLink.innerHTML = docLinkHtml;\n",
              "          element.appendChild(docLink);\n",
              "        }\n",
              "      </script>\n",
              "    </div>\n",
              "  </div>\n",
              "  "
            ]
          },
          "metadata": {},
          "execution_count": 8
        }
      ]
    },
    {
      "cell_type": "markdown",
      "metadata": {
        "id": "-dgIdfjIRLDN"
      },
      "source": [
        "### 3) Preparing input data for the Encoder ( `encoder_input_data` )\n",
        "The Encoder model will be fed input data which are preprocessed English sentences. The preprocessing is done as follows :\n",
        "\n",
        "\n",
        "1.   Tokenizing the English sentences from `eng_lines`.\n",
        "2.   Determining the maximum length of the English sentence that's `max_input_length`.\n",
        "3.   Padding the `tokenized_eng_lines` to the max_input_length.\n",
        "4.   Determining the vocabulary size ( `num_eng_tokens` ) for English words.\n",
        "\n",
        "\n",
        "\n"
      ]
    },
    {
      "cell_type": "code",
      "execution_count": 9,
      "metadata": {
        "id": "xk5qXb6kpPxW"
      },
      "outputs": [],
      "source": [
        "eng_lines = list()\n",
        "for line in lines.eng:\n",
        "    eng_lines.append( line ) "
      ]
    },
    {
      "cell_type": "code",
      "execution_count": 10,
      "metadata": {
        "id": "up3Yfut1pYol"
      },
      "outputs": [],
      "source": [
        "tokenizer = preprocessing.text.Tokenizer()\n",
        "tokenizer.fit_on_texts( eng_lines ) \n",
        "tokenized_eng_lines = tokenizer.texts_to_sequences( eng_lines ) "
      ]
    },
    {
      "cell_type": "code",
      "execution_count": 11,
      "metadata": {
        "colab": {
          "base_uri": "https://localhost:8080/"
        },
        "id": "McI0G_HnphMt",
        "outputId": "1598aa61-c302-447a-d442-2acc1707e03b"
      },
      "outputs": [
        {
          "output_type": "stream",
          "name": "stdout",
          "text": [
            "English max length is 32\n"
          ]
        }
      ],
      "source": [
        "length_list = list()\n",
        "for token_seq in tokenized_eng_lines:\n",
        "    length_list.append( len( token_seq ))\n",
        "max_input_length = np.array( length_list ).max()\n",
        "print( 'English max length is {}'.format( max_input_length ))"
      ]
    },
    {
      "cell_type": "code",
      "execution_count": 12,
      "metadata": {
        "colab": {
          "base_uri": "https://localhost:8080/"
        },
        "id": "Nazp0FX5plVF",
        "outputId": "3767f4d3-f1df-4f26-e29c-2293bc3c86e9"
      },
      "outputs": [
        {
          "output_type": "stream",
          "name": "stdout",
          "text": [
            "Encoder input data shape -> (8050, 32)\n"
          ]
        }
      ],
      "source": [
        "padded_eng_lines = preprocessing.sequence.pad_sequences( tokenized_eng_lines , maxlen=max_input_length , padding='post' )\n",
        "encoder_input_data = np.array( padded_eng_lines )\n",
        "print( 'Encoder input data shape -> {}'.format( encoder_input_data.shape ))"
      ]
    },
    {
      "cell_type": "code",
      "execution_count": 13,
      "metadata": {
        "colab": {
          "base_uri": "https://localhost:8080/"
        },
        "id": "Z2_ux1rZnDyY",
        "outputId": "9b5d0722-3c0d-4bd3-f83d-45a18a63ecf7"
      },
      "outputs": [
        {
          "output_type": "stream",
          "name": "stdout",
          "text": [
            "Number of English tokens = 3802\n"
          ]
        }
      ],
      "source": [
        "eng_word_dict = tokenizer.word_index\n",
        "num_eng_tokens = len( eng_word_dict )+1\n",
        "print( 'Number of English tokens = {}'.format( num_eng_tokens))"
      ]
    },
    {
      "cell_type": "code",
      "source": [
        "fp = open(os.path.join(path_to_save,'eng_word_dict.pkl'), 'wb')\n",
        "pickle.dump(eng_word_dict, fp)\n",
        "fp.close()"
      ],
      "metadata": {
        "id": "EAdyRwx2B98r"
      },
      "execution_count": 14,
      "outputs": []
    },
    {
      "cell_type": "markdown",
      "metadata": {
        "id": "cRwAd310SPkG"
      },
      "source": [
        "### 4) Preparing input data for the Decoder ( `decoder_input_data` )\n",
        "The Decoder model will be fed the preprocessed VietNam lines. The preprocessing steps are similar to the ones which are above. This one step is carried out before the other steps.\n",
        "\n",
        "\n",
        "*   Append `<START>` tag at the first position in  each VietNam sentence.\n",
        "*   Append `<END>` tag at the last position in  each VietNam sentence.\n",
        "\n",
        "\n",
        "\n"
      ]
    },
    {
      "cell_type": "code",
      "execution_count": 15,
      "metadata": {
        "id": "0a022jLIprId"
      },
      "outputs": [],
      "source": [
        "vie_lines = list()\n",
        "for line in lines.vie:\n",
        "    vie_lines.append( '<START> ' + line + ' <END>' )  "
      ]
    },
    {
      "cell_type": "code",
      "execution_count": 16,
      "metadata": {
        "id": "iNeYte1fqEte"
      },
      "outputs": [],
      "source": [
        "tokenizer = preprocessing.text.Tokenizer()\n",
        "tokenizer.fit_on_texts( vie_lines ) \n",
        "tokenized_vie_lines = tokenizer.texts_to_sequences( vie_lines ) "
      ]
    },
    {
      "cell_type": "code",
      "execution_count": 17,
      "metadata": {
        "colab": {
          "base_uri": "https://localhost:8080/"
        },
        "id": "GulPMF4vqNlF",
        "outputId": "939154eb-11f0-4926-eadd-0d3ce8dbd8da"
      },
      "outputs": [
        {
          "output_type": "stream",
          "name": "stdout",
          "text": [
            "Vietnam max length is 43\n"
          ]
        }
      ],
      "source": [
        "length_list = list()\n",
        "for token_seq in tokenized_vie_lines:\n",
        "    length_list.append( len( token_seq ))\n",
        "max_output_length = np.array( length_list ).max()\n",
        "print( 'Vietnam max length is {}'.format( max_output_length ))"
      ]
    },
    {
      "cell_type": "code",
      "execution_count": 18,
      "metadata": {
        "colab": {
          "base_uri": "https://localhost:8080/"
        },
        "id": "9Ft5igLnqTAe",
        "outputId": "d7dfda97-669c-4459-bc6f-d1d26116b106"
      },
      "outputs": [
        {
          "output_type": "stream",
          "name": "stdout",
          "text": [
            "Decoder input data shape -> (8050, 43)\n"
          ]
        }
      ],
      "source": [
        "padded_vie_lines = preprocessing.sequence.pad_sequences( tokenized_vie_lines , maxlen=max_output_length, padding='post' )\n",
        "decoder_input_data = np.array( padded_vie_lines )\n",
        "print( 'Decoder input data shape -> {}'.format( decoder_input_data.shape ))"
      ]
    },
    {
      "cell_type": "code",
      "execution_count": 19,
      "metadata": {
        "colab": {
          "base_uri": "https://localhost:8080/"
        },
        "id": "deB0oX_0pj8R",
        "outputId": "12d6eefe-5af7-487d-e2d3-0bb3e3cf9bf5"
      },
      "outputs": [
        {
          "output_type": "stream",
          "name": "stdout",
          "text": [
            "Number of Vietnam tokens = 2384\n"
          ]
        }
      ],
      "source": [
        "vie_word_dict = tokenizer.word_index\n",
        "num_vie_tokens = len( vie_word_dict )+1\n",
        "print( 'Number of Vietnam tokens = {}'.format( num_vie_tokens))"
      ]
    },
    {
      "cell_type": "code",
      "source": [
        "fp = open(os.path.join(path_to_save,'vie_word_dict.pkl'), 'wb')\n",
        "pickle.dump(vie_word_dict, fp)\n",
        "fp.close()"
      ],
      "metadata": {
        "id": "HHSDqtg7CWm_"
      },
      "execution_count": 20,
      "outputs": []
    },
    {
      "cell_type": "markdown",
      "metadata": {
        "id": "DJTcSlygTQ_V"
      },
      "source": [
        "### 5) Preparing target data for the Decoder ( decoder_target_data ) \n",
        "\n",
        "We take a copy of `tokenized_mar_lines` and modify it like this.\n",
        "\n",
        "\n",
        "\n",
        "1.   We remove the `<start>` tag which we appended earlier. Hence, the word ( which is `<start>` in this case  ) will be removed.\n",
        "2.   Convert the `padded_mar_lines` ( ones which do not have `<start>` tag ) to one-hot vectors.\n",
        "\n",
        "For example :\n",
        "\n",
        "```\n",
        " [ '<start>' , 'hello' , 'world' , '<end>' ]\n",
        "\n",
        "```\n",
        "\n",
        "wil become \n",
        "\n",
        "```\n",
        " [ 'hello' , 'world' , '<end>' ]\n",
        "\n",
        "```\n"
      ]
    },
    {
      "cell_type": "code",
      "execution_count": 21,
      "metadata": {
        "colab": {
          "base_uri": "https://localhost:8080/"
        },
        "id": "NPCTmeL7qj3T",
        "outputId": "dccb73d0-5273-463d-f874-031a22b8e5de"
      },
      "outputs": [
        {
          "output_type": "stream",
          "name": "stdout",
          "text": [
            "Decoder target data shape -> (8050, 43, 2384)\n"
          ]
        }
      ],
      "source": [
        "\n",
        "decoder_target_data = list()\n",
        "for token_seq in tokenized_vie_lines:\n",
        "    decoder_target_data.append( token_seq[ 1 : ] ) \n",
        "    \n",
        "padded_vie_lines = preprocessing.sequence.pad_sequences( decoder_target_data , maxlen=max_output_length, padding='post' )\n",
        "onehot_vie_lines = utils.to_categorical( padded_vie_lines , num_vie_tokens )\n",
        "decoder_target_data = np.array( onehot_vie_lines )\n",
        "print( 'Decoder target data shape -> {}'.format( decoder_target_data.shape ))\n"
      ]
    },
    {
      "cell_type": "markdown",
      "metadata": {
        "id": "6KS5gWlcpFT1"
      },
      "source": [
        "## Defining and Training the models"
      ]
    },
    {
      "cell_type": "markdown",
      "metadata": {
        "id": "M_N71uykUPbe"
      },
      "source": [
        "### 1) Defining the Encoder-Decoder model\n",
        "The model will have Embedding, LSTM and Dense layers. The basic configuration is as follows.\n",
        "\n",
        "\n",
        "*   2 Input Layers : One for `encoder_input_data` and another for `decoder_input_data`.\n",
        "*   Embedding layer : For converting token vectors to fix sized dense vectors. **( Note :  Don't forget the `mask_zero=True` argument here )**\n",
        "*   LSTM layer : Provide access to Long-Short Term cells.\n",
        "\n",
        "Working : \n",
        "\n",
        "1.   The `encoder_input_data` comes in the Embedding layer (  `encoder_embedding` ). \n",
        "2.   The output of the Embedding layer goes to the LSTM cell which produces 2 state vectors ( `h` and `c` which are `encoder_states` )\n",
        "3.   These states are set in the LSTM cell of the decoder.\n",
        "4.   The decoder_input_data comes in through the Embedding layer.\n",
        "5.   The Embeddings goes in LSTM cell ( which had the states ) to produce seqeunces.\n",
        "\n",
        "\n",
        "\n",
        "\n",
        "\n",
        "\n",
        "\n"
      ]
    },
    {
      "cell_type": "code",
      "execution_count": 22,
      "metadata": {
        "cellView": "code",
        "colab": {
          "base_uri": "https://localhost:8080/"
        },
        "id": "Hqb4Bps1s_Lr",
        "outputId": "0eea0e48-3dea-4752-e890-e230e7ff3062"
      },
      "outputs": [
        {
          "output_type": "stream",
          "name": "stdout",
          "text": [
            "Model: \"model\"\n",
            "__________________________________________________________________________________________________\n",
            " Layer (type)                   Output Shape         Param #     Connected to                     \n",
            "==================================================================================================\n",
            " enc_input (InputLayer)         [(None, None)]       0           []                               \n",
            "                                                                                                  \n",
            " dec_input (InputLayer)         [(None, None)]       0           []                               \n",
            "                                                                                                  \n",
            " enc_embedding (Embedding)      (None, None, 256)    973312      ['enc_input[0][0]']              \n",
            "                                                                                                  \n",
            " dec_embedding (Embedding)      (None, None, 256)    610304      ['dec_input[0][0]']              \n",
            "                                                                                                  \n",
            " enc_output (LSTM)              [(None, 128),        197120      ['enc_embedding[0][0]']          \n",
            "                                 (None, 128),                                                     \n",
            "                                 (None, 128)]                                                     \n",
            "                                                                                                  \n",
            " decoder_lstm (LSTM)            [(None, None, 128),  197120      ['dec_embedding[0][0]',          \n",
            "                                 (None, 128),                     'enc_output[0][1]',             \n",
            "                                 (None, 128)]                     'enc_output[0][2]']             \n",
            "                                                                                                  \n",
            " decoder_dense (Dense)          (None, None, 2384)   307536      ['decoder_lstm[0][0]']           \n",
            "                                                                                                  \n",
            "==================================================================================================\n",
            "Total params: 2,285,392\n",
            "Trainable params: 2,285,392\n",
            "Non-trainable params: 0\n",
            "__________________________________________________________________________________________________\n"
          ]
        }
      ],
      "source": [
        "\n",
        "encoder_inputs = tf.keras.layers.Input(shape=( None , ), name = 'enc_input')\n",
        "encoder_embedding = tf.keras.layers.Embedding( num_eng_tokens, 256 , mask_zero=True,name = 'enc_embedding') (encoder_inputs)\n",
        "encoder_outputs , state_h , state_c = tf.keras.layers.LSTM( 128 , return_state=True,name = 'enc_output'  )( encoder_embedding )\n",
        "encoder_states = [ state_h , state_c ]\n",
        "decoder_inputs = tf.keras.layers.Input(shape=( None ,  ), name = 'dec_input')\n",
        "decoder_embedding = tf.keras.layers.Embedding( num_vie_tokens, 256 , mask_zero=True,name = 'dec_embedding') (decoder_inputs)\n",
        "decoder_lstm = tf.keras.layers.LSTM( 128 , return_state=True , return_sequences=True, name = 'decoder_lstm')\n",
        "decoder_outputs , _ , _ = decoder_lstm ( decoder_embedding , initial_state=encoder_states )\n",
        "decoder_dense = tf.keras.layers.Dense( num_vie_tokens , activation=tf.keras.activations.softmax, name = 'decoder_dense' ) \n",
        "output = decoder_dense ( decoder_outputs )\n",
        "\n",
        "model = tf.keras.models.Model([encoder_inputs, decoder_inputs], output )\n",
        "model.compile(optimizer=tf.keras.optimizers.RMSprop(), loss='categorical_crossentropy')\n",
        "\n",
        "model.summary()\n"
      ]
    },
    {
      "cell_type": "markdown",
      "metadata": {
        "id": "n9g_8sR7WWf3"
      },
      "source": [
        "### 2) Training the model\n",
        "We train the model for a number of epochs with RMSprop optimizer and categorical crossentropy loss function."
      ]
    },
    {
      "cell_type": "code",
      "execution_count": 23,
      "metadata": {
        "cellView": "code",
        "colab": {
          "base_uri": "https://localhost:8080/"
        },
        "id": "fnd2H27qt4Hy",
        "outputId": "ea66edcd-e54c-40e8-e696-552a357eb01f"
      },
      "outputs": [
        {
          "output_type": "stream",
          "name": "stdout",
          "text": [
            "Epoch 1/100\n",
            "33/33 - 41s - loss: 1.4244 - 41s/epoch - 1s/step\n",
            "Epoch 2/100\n",
            "33/33 - 34s - loss: 1.2562 - 34s/epoch - 1s/step\n",
            "Epoch 3/100\n",
            "33/33 - 33s - loss: 1.2040 - 33s/epoch - 1s/step\n",
            "Epoch 4/100\n",
            "33/33 - 33s - loss: 1.1637 - 33s/epoch - 1s/step\n",
            "Epoch 5/100\n",
            "33/33 - 35s - loss: 1.1324 - 35s/epoch - 1s/step\n",
            "Epoch 6/100\n",
            "33/33 - 35s - loss: 1.1048 - 35s/epoch - 1s/step\n",
            "Epoch 7/100\n",
            "33/33 - 33s - loss: 1.0782 - 33s/epoch - 1s/step\n",
            "Epoch 8/100\n",
            "33/33 - 33s - loss: 1.0505 - 33s/epoch - 1s/step\n",
            "Epoch 9/100\n",
            "33/33 - 33s - loss: 1.0227 - 33s/epoch - 1s/step\n",
            "Epoch 10/100\n",
            "33/33 - 33s - loss: 0.9967 - 33s/epoch - 1s/step\n",
            "Epoch 11/100\n",
            "33/33 - 33s - loss: 0.9729 - 33s/epoch - 1s/step\n",
            "Epoch 12/100\n",
            "33/33 - 33s - loss: 0.9502 - 33s/epoch - 1s/step\n",
            "Epoch 13/100\n",
            "33/33 - 36s - loss: 0.9301 - 36s/epoch - 1s/step\n",
            "Epoch 14/100\n",
            "33/33 - 33s - loss: 0.9108 - 33s/epoch - 1s/step\n",
            "Epoch 15/100\n",
            "33/33 - 35s - loss: 0.8926 - 35s/epoch - 1s/step\n",
            "Epoch 16/100\n",
            "33/33 - 33s - loss: 0.8758 - 33s/epoch - 1s/step\n",
            "Epoch 17/100\n",
            "33/33 - 33s - loss: 0.8584 - 33s/epoch - 1s/step\n",
            "Epoch 18/100\n",
            "33/33 - 33s - loss: 0.8424 - 33s/epoch - 1s/step\n",
            "Epoch 19/100\n",
            "33/33 - 33s - loss: 0.8256 - 33s/epoch - 1s/step\n",
            "Epoch 20/100\n",
            "33/33 - 33s - loss: 0.8096 - 33s/epoch - 1s/step\n",
            "Epoch 21/100\n",
            "33/33 - 33s - loss: 0.7945 - 33s/epoch - 1s/step\n",
            "Epoch 22/100\n",
            "33/33 - 33s - loss: 0.7791 - 33s/epoch - 1s/step\n",
            "Epoch 23/100\n",
            "33/33 - 33s - loss: 0.7643 - 33s/epoch - 1s/step\n",
            "Epoch 24/100\n",
            "33/33 - 35s - loss: 0.7489 - 35s/epoch - 1s/step\n",
            "Epoch 25/100\n",
            "33/33 - 33s - loss: 0.7353 - 33s/epoch - 1s/step\n",
            "Epoch 26/100\n",
            "33/33 - 33s - loss: 0.7204 - 33s/epoch - 1s/step\n",
            "Epoch 27/100\n",
            "33/33 - 33s - loss: 0.7060 - 33s/epoch - 1s/step\n",
            "Epoch 28/100\n",
            "33/33 - 33s - loss: 0.6925 - 33s/epoch - 1s/step\n",
            "Epoch 29/100\n",
            "33/33 - 33s - loss: 0.6787 - 33s/epoch - 1s/step\n",
            "Epoch 30/100\n",
            "33/33 - 33s - loss: 0.6653 - 33s/epoch - 1s/step\n",
            "Epoch 31/100\n",
            "33/33 - 33s - loss: 0.6523 - 33s/epoch - 1s/step\n",
            "Epoch 32/100\n",
            "33/33 - 33s - loss: 0.6390 - 33s/epoch - 1s/step\n",
            "Epoch 33/100\n",
            "33/33 - 35s - loss: 0.6260 - 35s/epoch - 1s/step\n",
            "Epoch 34/100\n",
            "33/33 - 33s - loss: 0.6141 - 33s/epoch - 1s/step\n",
            "Epoch 35/100\n",
            "33/33 - 33s - loss: 0.6016 - 33s/epoch - 1s/step\n",
            "Epoch 36/100\n",
            "33/33 - 33s - loss: 0.5893 - 33s/epoch - 1s/step\n",
            "Epoch 37/100\n",
            "33/33 - 33s - loss: 0.5771 - 33s/epoch - 1s/step\n",
            "Epoch 38/100\n",
            "33/33 - 33s - loss: 0.5653 - 33s/epoch - 1s/step\n",
            "Epoch 39/100\n",
            "33/33 - 33s - loss: 0.5538 - 33s/epoch - 1s/step\n",
            "Epoch 40/100\n",
            "33/33 - 33s - loss: 0.5423 - 33s/epoch - 1s/step\n",
            "Epoch 41/100\n",
            "33/33 - 33s - loss: 0.5312 - 33s/epoch - 1s/step\n",
            "Epoch 42/100\n",
            "33/33 - 33s - loss: 0.5196 - 33s/epoch - 1s/step\n",
            "Epoch 43/100\n",
            "33/33 - 35s - loss: 0.5093 - 35s/epoch - 1s/step\n",
            "Epoch 44/100\n",
            "33/33 - 33s - loss: 0.4985 - 33s/epoch - 1s/step\n",
            "Epoch 45/100\n",
            "33/33 - 33s - loss: 0.4880 - 33s/epoch - 1s/step\n",
            "Epoch 46/100\n",
            "33/33 - 33s - loss: 0.4774 - 33s/epoch - 1s/step\n",
            "Epoch 47/100\n",
            "33/33 - 33s - loss: 0.4680 - 33s/epoch - 1s/step\n",
            "Epoch 48/100\n",
            "33/33 - 33s - loss: 0.4578 - 33s/epoch - 1s/step\n",
            "Epoch 49/100\n",
            "33/33 - 33s - loss: 0.4481 - 33s/epoch - 1s/step\n",
            "Epoch 50/100\n",
            "33/33 - 33s - loss: 0.4386 - 33s/epoch - 1s/step\n",
            "Epoch 51/100\n",
            "33/33 - 33s - loss: 0.4287 - 33s/epoch - 1s/step\n",
            "Epoch 52/100\n",
            "33/33 - 35s - loss: 0.4198 - 35s/epoch - 1s/step\n",
            "Epoch 53/100\n",
            "33/33 - 33s - loss: 0.4108 - 33s/epoch - 1s/step\n",
            "Epoch 54/100\n",
            "33/33 - 33s - loss: 0.4020 - 33s/epoch - 1s/step\n",
            "Epoch 55/100\n",
            "33/33 - 34s - loss: 0.3933 - 34s/epoch - 1s/step\n",
            "Epoch 56/100\n",
            "33/33 - 34s - loss: 0.3845 - 34s/epoch - 1s/step\n",
            "Epoch 57/100\n",
            "33/33 - 34s - loss: 0.3767 - 34s/epoch - 1s/step\n",
            "Epoch 58/100\n",
            "33/33 - 34s - loss: 0.3683 - 34s/epoch - 1s/step\n",
            "Epoch 59/100\n",
            "33/33 - 34s - loss: 0.3598 - 34s/epoch - 1s/step\n",
            "Epoch 60/100\n",
            "33/33 - 33s - loss: 0.3529 - 33s/epoch - 1s/step\n",
            "Epoch 61/100\n",
            "33/33 - 35s - loss: 0.3450 - 35s/epoch - 1s/step\n",
            "Epoch 62/100\n",
            "33/33 - 34s - loss: 0.3370 - 34s/epoch - 1s/step\n",
            "Epoch 63/100\n",
            "33/33 - 33s - loss: 0.3298 - 33s/epoch - 1s/step\n",
            "Epoch 64/100\n",
            "33/33 - 33s - loss: 0.3224 - 33s/epoch - 1s/step\n",
            "Epoch 65/100\n",
            "33/33 - 33s - loss: 0.3157 - 33s/epoch - 1s/step\n",
            "Epoch 66/100\n",
            "33/33 - 33s - loss: 0.3083 - 33s/epoch - 1s/step\n",
            "Epoch 67/100\n",
            "33/33 - 33s - loss: 0.3015 - 33s/epoch - 1s/step\n",
            "Epoch 68/100\n",
            "33/33 - 33s - loss: 0.2952 - 33s/epoch - 1s/step\n",
            "Epoch 69/100\n",
            "33/33 - 33s - loss: 0.2890 - 33s/epoch - 1s/step\n",
            "Epoch 70/100\n",
            "33/33 - 33s - loss: 0.2815 - 33s/epoch - 1s/step\n",
            "Epoch 71/100\n",
            "33/33 - 35s - loss: 0.2761 - 35s/epoch - 1s/step\n",
            "Epoch 72/100\n",
            "33/33 - 33s - loss: 0.2703 - 33s/epoch - 1s/step\n",
            "Epoch 73/100\n",
            "33/33 - 33s - loss: 0.2634 - 33s/epoch - 1s/step\n",
            "Epoch 74/100\n",
            "33/33 - 33s - loss: 0.2584 - 33s/epoch - 1s/step\n",
            "Epoch 75/100\n",
            "33/33 - 33s - loss: 0.2516 - 33s/epoch - 1s/step\n",
            "Epoch 76/100\n",
            "33/33 - 33s - loss: 0.2464 - 33s/epoch - 1s/step\n",
            "Epoch 77/100\n",
            "33/33 - 36s - loss: 0.2406 - 36s/epoch - 1s/step\n",
            "Epoch 78/100\n",
            "33/33 - 35s - loss: 0.2354 - 35s/epoch - 1s/step\n",
            "Epoch 79/100\n",
            "33/33 - 33s - loss: 0.2299 - 33s/epoch - 1s/step\n",
            "Epoch 80/100\n",
            "33/33 - 35s - loss: 0.2245 - 35s/epoch - 1s/step\n",
            "Epoch 81/100\n",
            "33/33 - 34s - loss: 0.2192 - 34s/epoch - 1s/step\n",
            "Epoch 82/100\n",
            "33/33 - 33s - loss: 0.2148 - 33s/epoch - 1s/step\n",
            "Epoch 83/100\n",
            "33/33 - 34s - loss: 0.2088 - 34s/epoch - 1s/step\n",
            "Epoch 84/100\n",
            "33/33 - 34s - loss: 0.2052 - 34s/epoch - 1s/step\n",
            "Epoch 85/100\n",
            "33/33 - 34s - loss: 0.2000 - 34s/epoch - 1s/step\n",
            "Epoch 86/100\n",
            "33/33 - 34s - loss: 0.1956 - 34s/epoch - 1s/step\n",
            "Epoch 87/100\n",
            "33/33 - 34s - loss: 0.1912 - 34s/epoch - 1s/step\n",
            "Epoch 88/100\n",
            "33/33 - 34s - loss: 0.1865 - 34s/epoch - 1s/step\n",
            "Epoch 89/100\n",
            "33/33 - 34s - loss: 0.1822 - 34s/epoch - 1s/step\n",
            "Epoch 90/100\n",
            "33/33 - 35s - loss: 0.1779 - 35s/epoch - 1s/step\n",
            "Epoch 91/100\n",
            "33/33 - 34s - loss: 0.1747 - 34s/epoch - 1s/step\n",
            "Epoch 92/100\n",
            "33/33 - 33s - loss: 0.1703 - 33s/epoch - 1s/step\n",
            "Epoch 93/100\n",
            "33/33 - 34s - loss: 0.1663 - 34s/epoch - 1s/step\n",
            "Epoch 94/100\n",
            "33/33 - 34s - loss: 0.1622 - 34s/epoch - 1s/step\n",
            "Epoch 95/100\n",
            "33/33 - 34s - loss: 0.1592 - 34s/epoch - 1s/step\n",
            "Epoch 96/100\n",
            "33/33 - 34s - loss: 0.1545 - 34s/epoch - 1s/step\n",
            "Epoch 97/100\n",
            "33/33 - 34s - loss: 0.1518 - 34s/epoch - 1s/step\n",
            "Epoch 98/100\n",
            "33/33 - 34s - loss: 0.1480 - 34s/epoch - 1s/step\n",
            "Epoch 99/100\n",
            "33/33 - 35s - loss: 0.1442 - 35s/epoch - 1s/step\n",
            "Epoch 100/100\n",
            "33/33 - 34s - loss: 0.1410 - 34s/epoch - 1s/step\n"
          ]
        },
        {
          "output_type": "execute_result",
          "data": {
            "text/plain": [
              "<keras.callbacks.History at 0x7f1595ed0fd0>"
            ]
          },
          "metadata": {},
          "execution_count": 23
        }
      ],
      "source": [
        "# model.fit([encoder_input_data , decoder_input_data], decoder_target_data, batch_size=200, epochs=10) \n",
        "model.fit([encoder_input_data , decoder_input_data], decoder_target_data, batch_size=250, epochs=100, verbose=2)"
      ]
    },
    {
      "cell_type": "code",
      "source": [
        "model.save(os.path.join(path_to_save,'saved_model'))"
      ],
      "metadata": {
        "colab": {
          "base_uri": "https://localhost:8080/"
        },
        "id": "f-d3SYw-dqR8",
        "outputId": "bd1a6d1b-cdab-4626-88bb-ceca39924988"
      },
      "execution_count": 24,
      "outputs": [
        {
          "output_type": "stream",
          "name": "stderr",
          "text": [
            "WARNING:absl:Found untraced functions such as lstm_cell_layer_call_fn, lstm_cell_layer_call_and_return_conditional_losses, lstm_cell_1_layer_call_fn, lstm_cell_1_layer_call_and_return_conditional_losses while saving (showing 4 of 4). These functions will not be directly callable after loading.\n"
          ]
        },
        {
          "output_type": "stream",
          "name": "stdout",
          "text": [
            "INFO:tensorflow:Assets written to: /content/drive/MyDrive/Colab Notebooks/LSTM/saved_model/assets\n"
          ]
        },
        {
          "output_type": "stream",
          "name": "stderr",
          "text": [
            "INFO:tensorflow:Assets written to: /content/drive/MyDrive/Colab Notebooks/LSTM/saved_model/assets\n",
            "WARNING:absl:<keras.layers.recurrent.LSTMCell object at 0x7f1599981510> has the same name 'LSTMCell' as a built-in Keras object. Consider renaming <class 'keras.layers.recurrent.LSTMCell'> to avoid naming conflicts when loading with `tf.keras.models.load_model`. If renaming is not possible, pass the object in the `custom_objects` parameter of the load function.\n",
            "WARNING:absl:<keras.layers.recurrent.LSTMCell object at 0x7f15962adf50> has the same name 'LSTMCell' as a built-in Keras object. Consider renaming <class 'keras.layers.recurrent.LSTMCell'> to avoid naming conflicts when loading with `tf.keras.models.load_model`. If renaming is not possible, pass the object in the `custom_objects` parameter of the load function.\n"
          ]
        }
      ]
    },
    {
      "cell_type": "markdown",
      "metadata": {
        "id": "Eeqv_vH5pMpb"
      },
      "source": [
        "## Inferencing on the models"
      ]
    },
    {
      "cell_type": "code",
      "source": [
        "import tensorflow as tf\n",
        "from tensorflow.keras import layers , activations , models , preprocessing , utils\n",
        "import numpy as np\n",
        "import json\n",
        "import os\n",
        "import pickle\n",
        "#### thay path\n",
        "path = r\"/content/drive/MyDrive/Colab Notebooks/LSTM\"\n",
        "####\n",
        "from google.colab import drive\n",
        "drive.mount('/content/drive')\n",
        "\n",
        "eng_word_dict = dict()\n",
        "vie_word_dict = dict()\n",
        "fp = open(os.path.join(path,'eng_word_dict.pkl'), 'rb')\n",
        "eng_word_dict = pickle.load(fp)\n",
        "fp.close()\n",
        "fp = open(os.path.join(path,'vie_word_dict.pkl'), 'rb')\n",
        "vie_word_dict = pickle.load(fp)\n",
        "fp.close()\n",
        "num_eng_tokens = len(eng_word_dict) + 1\n",
        "num_vie_tokens = len(vie_word_dict) + 1"
      ],
      "metadata": {
        "id": "V-dgKqBECnMj",
        "colab": {
          "base_uri": "https://localhost:8080/"
        },
        "outputId": "b735b8cb-9a8f-42cb-d2e1-2957d54c4c8b"
      },
      "execution_count": 2,
      "outputs": [
        {
          "output_type": "stream",
          "name": "stdout",
          "text": [
            "Drive already mounted at /content/drive; to attempt to forcibly remount, call drive.mount(\"/content/drive\", force_remount=True).\n"
          ]
        }
      ]
    },
    {
      "cell_type": "markdown",
      "metadata": {
        "id": "o4PAtzGrk8pq"
      },
      "source": [
        "### 1) Defining inference models\n",
        "We create inference models which help in predicting translations.\n",
        "\n",
        "**Encoder inference model** : Takes the English sentence as input and outputs LSTM states ( `h` and `c` ).\n",
        "\n",
        "**Decoder inference model** : Takes in 2 inputs, one are the LSTM states ( Output of encoder model ), second are the VietNam input seqeunces ( ones not having the `<start>` tag ). It will output the translations of the English sentence which we fed to the encoder model and its state values.\n",
        "\n",
        "\n",
        "\n"
      ]
    },
    {
      "cell_type": "code",
      "source": [
        "model = tf.keras.models.load_model(os.path.join(path,'saved_model'))"
      ],
      "metadata": {
        "id": "DQXLAwcO_TuQ"
      },
      "execution_count": 3,
      "outputs": []
    },
    {
      "cell_type": "code",
      "execution_count": 4,
      "metadata": {
        "id": "UNhVkiZLvdTq"
      },
      "outputs": [],
      "source": [
        "\n",
        "def make_inference_models():\n",
        "    encoder_inputs = model.get_layer(\"enc_input\").output\n",
        "    encoder_outputs, state_h , state_c = model.get_layer(\"enc_output\").output\n",
        "    encoder_states = [ state_h , state_c ]\n",
        "    encoder_model = tf.keras.models.Model(encoder_inputs, encoder_states)\n",
        "    \n",
        "\n",
        "    decoder_state_input_h = tf.keras.layers.Input(shape=( 128 ,))\n",
        "    decoder_state_input_c = tf.keras.layers.Input(shape=( 128 ,))\n",
        "    \n",
        "    decoder_states_inputs = [decoder_state_input_h, decoder_state_input_c]\n",
        "    \n",
        "    decoder_embedding = model.get_layer(\"dec_embedding\")\n",
        "    decoder_inputs = model.get_layer(\"dec_input\")\n",
        "\n",
        "    decoder_outputs, state_h, state_c = model.get_layer(\"decoder_lstm\")(\n",
        "        decoder_embedding.output , initial_state=decoder_states_inputs)\n",
        "    decoder_states = [state_h, state_c]\n",
        "    decoder_outputs = model.get_layer(\"decoder_dense\")(decoder_outputs)\n",
        "    decoder_model = tf.keras.models.Model(\n",
        "        [decoder_inputs.output] + decoder_states_inputs,\n",
        "        [decoder_outputs] + decoder_states)\n",
        "    \n",
        "    return encoder_model , decoder_model\n"
      ]
    },
    {
      "cell_type": "markdown",
      "metadata": {
        "id": "djEPrfJBmZE-"
      },
      "source": [
        "### 2) Making some translations\n",
        "\n",
        "\n",
        "1.   First, we take a English sequence and predict the state values using `enc_model`.\n",
        "2.   We set the state values in the decoder's LSTM.\n",
        "3.   Then, we generate a sequence which contains the `<start>` element.\n",
        "4.   We input this sequence in the `dec_model`.\n",
        "5.   We replace the `<start>` element with the element which was predicted by the `dec_model` and update the state values.\n",
        "6.   We carry out the above steps iteratively till we hit the `<end>` tag or the maximum sequence length.\n",
        "\n",
        "\n",
        "\n",
        "\n",
        "\n"
      ]
    },
    {
      "cell_type": "code",
      "execution_count": 5,
      "metadata": {
        "id": "Y_hrJcNP-mXb"
      },
      "outputs": [],
      "source": [
        "max_input_length = 32\n",
        "max_output_length = 43\n",
        "def str_to_tokens( sentence : str ):\n",
        "    words = sentence.lower().split()\n",
        "    tokens_list = list()\n",
        "    for word in words:\n",
        "        tokens_list.append( eng_word_dict[ word ] ) \n",
        "    return preprocessing.sequence.pad_sequences( [tokens_list] , maxlen=max_input_length , padding='post')\n"
      ]
    },
    {
      "cell_type": "code",
      "source": [
        "\n",
        "enc_model , dec_model = make_inference_models()\n",
        "\n",
        "#for epoch in range( encoder_input_data.shape[0] ):\n",
        "while(1):\n",
        "    states_values = enc_model.predict( str_to_tokens( input( 'Enter eng sentence : ' ) ) )\n",
        "    #states_values = enc_model.predict( encoder_input_data[ epoch ] )\n",
        "    empty_target_seq = np.zeros( ( 1 , 1 ) )\n",
        "    empty_target_seq[0, 0] = vie_word_dict['start']\n",
        "    stop_condition = False\n",
        "    decoded_translation = ''\n",
        "    while not stop_condition :\n",
        "        dec_outputs , h , c = dec_model.predict([ empty_target_seq ] + states_values )\n",
        "        sampled_word_index = np.argmax( dec_outputs[0, -1, :] )\n",
        "        sampled_word = None\n",
        "        for word , index in vie_word_dict.items() :\n",
        "            if sampled_word_index == index :\n",
        "                decoded_translation += ' {}'.format( word )\n",
        "                sampled_word = word\n",
        "        \n",
        "        if sampled_word == 'end' or len(decoded_translation.split()) > max_output_length:\n",
        "            stop_condition = True\n",
        "            \n",
        "        empty_target_seq = np.zeros( ( 1 , 1 ) )  \n",
        "        empty_target_seq[ 0 , 0 ] = sampled_word_index\n",
        "        states_values = [ h , c ] \n",
        "\n",
        "    print( decoded_translation[:-4] )\n"
      ],
      "metadata": {
        "colab": {
          "base_uri": "https://localhost:8080/",
          "height": 675
        },
        "id": "d8HyTqKU2mI6",
        "outputId": "d8f9655d-3e5e-4f50-e718-e54b320f6259"
      },
      "execution_count": 11,
      "outputs": [
        {
          "output_type": "stream",
          "name": "stdout",
          "text": [
            "Enter eng sentence : stop\n",
            " dừng lại\n",
            "Enter eng sentence : I called her office but no one answered\n",
            " tôi đã gọi đến văn phòng của cô ấy không trả lời như thế\n",
            "Enter eng sentence : He was the only one who came to the party\n",
            " người ta có thói quen là anh ấy từng đến nhà ga du lịch được\n",
            "Enter eng sentence : \n",
            " ta đang về báo\n"
          ]
        },
        {
          "output_type": "error",
          "ename": "KeyboardInterrupt",
          "evalue": "ignored",
          "traceback": [
            "\u001b[0;31m---------------------------------------------------------------------------\u001b[0m",
            "\u001b[0;31mKeyboardInterrupt\u001b[0m                         Traceback (most recent call last)",
            "\u001b[0;32m/usr/local/lib/python3.7/dist-packages/ipykernel/kernelbase.py\u001b[0m in \u001b[0;36m_input_request\u001b[0;34m(self, prompt, ident, parent, password)\u001b[0m\n\u001b[1;32m    728\u001b[0m             \u001b[0;32mtry\u001b[0m\u001b[0;34m:\u001b[0m\u001b[0;34m\u001b[0m\u001b[0;34m\u001b[0m\u001b[0m\n\u001b[0;32m--> 729\u001b[0;31m                 \u001b[0mident\u001b[0m\u001b[0;34m,\u001b[0m \u001b[0mreply\u001b[0m \u001b[0;34m=\u001b[0m \u001b[0mself\u001b[0m\u001b[0;34m.\u001b[0m\u001b[0msession\u001b[0m\u001b[0;34m.\u001b[0m\u001b[0mrecv\u001b[0m\u001b[0;34m(\u001b[0m\u001b[0mself\u001b[0m\u001b[0;34m.\u001b[0m\u001b[0mstdin_socket\u001b[0m\u001b[0;34m,\u001b[0m \u001b[0;36m0\u001b[0m\u001b[0;34m)\u001b[0m\u001b[0;34m\u001b[0m\u001b[0;34m\u001b[0m\u001b[0m\n\u001b[0m\u001b[1;32m    730\u001b[0m             \u001b[0;32mexcept\u001b[0m \u001b[0mException\u001b[0m\u001b[0;34m:\u001b[0m\u001b[0;34m\u001b[0m\u001b[0;34m\u001b[0m\u001b[0m\n",
            "\u001b[0;32m/usr/local/lib/python3.7/dist-packages/jupyter_client/session.py\u001b[0m in \u001b[0;36mrecv\u001b[0;34m(self, socket, mode, content, copy)\u001b[0m\n\u001b[1;32m    802\u001b[0m         \u001b[0;32mtry\u001b[0m\u001b[0;34m:\u001b[0m\u001b[0;34m\u001b[0m\u001b[0;34m\u001b[0m\u001b[0m\n\u001b[0;32m--> 803\u001b[0;31m             \u001b[0mmsg_list\u001b[0m \u001b[0;34m=\u001b[0m \u001b[0msocket\u001b[0m\u001b[0;34m.\u001b[0m\u001b[0mrecv_multipart\u001b[0m\u001b[0;34m(\u001b[0m\u001b[0mmode\u001b[0m\u001b[0;34m,\u001b[0m \u001b[0mcopy\u001b[0m\u001b[0;34m=\u001b[0m\u001b[0mcopy\u001b[0m\u001b[0;34m)\u001b[0m\u001b[0;34m\u001b[0m\u001b[0;34m\u001b[0m\u001b[0m\n\u001b[0m\u001b[1;32m    804\u001b[0m         \u001b[0;32mexcept\u001b[0m \u001b[0mzmq\u001b[0m\u001b[0;34m.\u001b[0m\u001b[0mZMQError\u001b[0m \u001b[0;32mas\u001b[0m \u001b[0me\u001b[0m\u001b[0;34m:\u001b[0m\u001b[0;34m\u001b[0m\u001b[0;34m\u001b[0m\u001b[0m\n",
            "\u001b[0;32m/usr/local/lib/python3.7/dist-packages/zmq/sugar/socket.py\u001b[0m in \u001b[0;36mrecv_multipart\u001b[0;34m(self, flags, copy, track)\u001b[0m\n\u001b[1;32m    726\u001b[0m         \"\"\"\n\u001b[0;32m--> 727\u001b[0;31m         \u001b[0mparts\u001b[0m \u001b[0;34m=\u001b[0m \u001b[0;34m[\u001b[0m\u001b[0mself\u001b[0m\u001b[0;34m.\u001b[0m\u001b[0mrecv\u001b[0m\u001b[0;34m(\u001b[0m\u001b[0mflags\u001b[0m\u001b[0;34m,\u001b[0m \u001b[0mcopy\u001b[0m\u001b[0;34m=\u001b[0m\u001b[0mcopy\u001b[0m\u001b[0;34m,\u001b[0m \u001b[0mtrack\u001b[0m\u001b[0;34m=\u001b[0m\u001b[0mtrack\u001b[0m\u001b[0;34m)\u001b[0m\u001b[0;34m]\u001b[0m\u001b[0;34m\u001b[0m\u001b[0;34m\u001b[0m\u001b[0m\n\u001b[0m\u001b[1;32m    728\u001b[0m         \u001b[0;31m# have first part already, only loop while more to receive\u001b[0m\u001b[0;34m\u001b[0m\u001b[0;34m\u001b[0m\u001b[0;34m\u001b[0m\u001b[0m\n",
            "\u001b[0;32mzmq/backend/cython/socket.pyx\u001b[0m in \u001b[0;36mzmq.backend.cython.socket.Socket.recv\u001b[0;34m()\u001b[0m\n",
            "\u001b[0;32mzmq/backend/cython/socket.pyx\u001b[0m in \u001b[0;36mzmq.backend.cython.socket.Socket.recv\u001b[0;34m()\u001b[0m\n",
            "\u001b[0;32mzmq/backend/cython/socket.pyx\u001b[0m in \u001b[0;36mzmq.backend.cython.socket._recv_copy\u001b[0;34m()\u001b[0m\n",
            "\u001b[0;32m/usr/local/lib/python3.7/dist-packages/zmq/backend/cython/checkrc.pxd\u001b[0m in \u001b[0;36mzmq.backend.cython.checkrc._check_rc\u001b[0;34m()\u001b[0m\n",
            "\u001b[0;31mKeyboardInterrupt\u001b[0m: ",
            "\nDuring handling of the above exception, another exception occurred:\n",
            "\u001b[0;31mKeyboardInterrupt\u001b[0m                         Traceback (most recent call last)",
            "\u001b[0;32m<ipython-input-11-c956a79fc9bb>\u001b[0m in \u001b[0;36m<module>\u001b[0;34m()\u001b[0m\n\u001b[1;32m      4\u001b[0m \u001b[0;31m#for epoch in range( encoder_input_data.shape[0] ):\u001b[0m\u001b[0;34m\u001b[0m\u001b[0;34m\u001b[0m\u001b[0;34m\u001b[0m\u001b[0m\n\u001b[1;32m      5\u001b[0m \u001b[0;32mwhile\u001b[0m\u001b[0;34m(\u001b[0m\u001b[0;36m1\u001b[0m\u001b[0;34m)\u001b[0m\u001b[0;34m:\u001b[0m\u001b[0;34m\u001b[0m\u001b[0;34m\u001b[0m\u001b[0m\n\u001b[0;32m----> 6\u001b[0;31m     \u001b[0mstates_values\u001b[0m \u001b[0;34m=\u001b[0m \u001b[0menc_model\u001b[0m\u001b[0;34m.\u001b[0m\u001b[0mpredict\u001b[0m\u001b[0;34m(\u001b[0m \u001b[0mstr_to_tokens\u001b[0m\u001b[0;34m(\u001b[0m \u001b[0minput\u001b[0m\u001b[0;34m(\u001b[0m \u001b[0;34m'Enter eng sentence : '\u001b[0m \u001b[0;34m)\u001b[0m \u001b[0;34m)\u001b[0m \u001b[0;34m)\u001b[0m\u001b[0;34m\u001b[0m\u001b[0;34m\u001b[0m\u001b[0m\n\u001b[0m\u001b[1;32m      7\u001b[0m     \u001b[0;31m#states_values = enc_model.predict( encoder_input_data[ epoch ] )\u001b[0m\u001b[0;34m\u001b[0m\u001b[0;34m\u001b[0m\u001b[0;34m\u001b[0m\u001b[0m\n\u001b[1;32m      8\u001b[0m     \u001b[0mempty_target_seq\u001b[0m \u001b[0;34m=\u001b[0m \u001b[0mnp\u001b[0m\u001b[0;34m.\u001b[0m\u001b[0mzeros\u001b[0m\u001b[0;34m(\u001b[0m \u001b[0;34m(\u001b[0m \u001b[0;36m1\u001b[0m \u001b[0;34m,\u001b[0m \u001b[0;36m1\u001b[0m \u001b[0;34m)\u001b[0m \u001b[0;34m)\u001b[0m\u001b[0;34m\u001b[0m\u001b[0;34m\u001b[0m\u001b[0m\n",
            "\u001b[0;32m/usr/local/lib/python3.7/dist-packages/ipykernel/kernelbase.py\u001b[0m in \u001b[0;36mraw_input\u001b[0;34m(self, prompt)\u001b[0m\n\u001b[1;32m    702\u001b[0m             \u001b[0mself\u001b[0m\u001b[0;34m.\u001b[0m\u001b[0m_parent_ident\u001b[0m\u001b[0;34m,\u001b[0m\u001b[0;34m\u001b[0m\u001b[0;34m\u001b[0m\u001b[0m\n\u001b[1;32m    703\u001b[0m             \u001b[0mself\u001b[0m\u001b[0;34m.\u001b[0m\u001b[0m_parent_header\u001b[0m\u001b[0;34m,\u001b[0m\u001b[0;34m\u001b[0m\u001b[0;34m\u001b[0m\u001b[0m\n\u001b[0;32m--> 704\u001b[0;31m             \u001b[0mpassword\u001b[0m\u001b[0;34m=\u001b[0m\u001b[0;32mFalse\u001b[0m\u001b[0;34m,\u001b[0m\u001b[0;34m\u001b[0m\u001b[0;34m\u001b[0m\u001b[0m\n\u001b[0m\u001b[1;32m    705\u001b[0m         )\n\u001b[1;32m    706\u001b[0m \u001b[0;34m\u001b[0m\u001b[0m\n",
            "\u001b[0;32m/usr/local/lib/python3.7/dist-packages/ipykernel/kernelbase.py\u001b[0m in \u001b[0;36m_input_request\u001b[0;34m(self, prompt, ident, parent, password)\u001b[0m\n\u001b[1;32m    732\u001b[0m             \u001b[0;32mexcept\u001b[0m \u001b[0mKeyboardInterrupt\u001b[0m\u001b[0;34m:\u001b[0m\u001b[0;34m\u001b[0m\u001b[0;34m\u001b[0m\u001b[0m\n\u001b[1;32m    733\u001b[0m                 \u001b[0;31m# re-raise KeyboardInterrupt, to truncate traceback\u001b[0m\u001b[0;34m\u001b[0m\u001b[0;34m\u001b[0m\u001b[0;34m\u001b[0m\u001b[0m\n\u001b[0;32m--> 734\u001b[0;31m                 \u001b[0;32mraise\u001b[0m \u001b[0mKeyboardInterrupt\u001b[0m\u001b[0;34m\u001b[0m\u001b[0;34m\u001b[0m\u001b[0m\n\u001b[0m\u001b[1;32m    735\u001b[0m             \u001b[0;32melse\u001b[0m\u001b[0;34m:\u001b[0m\u001b[0;34m\u001b[0m\u001b[0;34m\u001b[0m\u001b[0m\n\u001b[1;32m    736\u001b[0m                 \u001b[0;32mbreak\u001b[0m\u001b[0;34m\u001b[0m\u001b[0;34m\u001b[0m\u001b[0m\n",
            "\u001b[0;31mKeyboardInterrupt\u001b[0m: "
          ]
        }
      ]
    },
    {
      "cell_type": "code",
      "source": [
        "!apt install libasound2-dev portaudio19-dev libportaudio2 libportaudiocpp0 ffmpeg\n",
        "!pip install PyAudio\n",
        "!pip install SpeechRecognition\n",
        "!pip install gTTs\n",
        "!pip install playsound\n"
      ],
      "metadata": {
        "colab": {
          "base_uri": "https://localhost:8080/"
        },
        "id": "mTEVkD3mfrTa",
        "outputId": "38590285-2986-4929-a9c5-7737a1d3d845"
      },
      "execution_count": 6,
      "outputs": [
        {
          "output_type": "stream",
          "name": "stdout",
          "text": [
            "Reading package lists... Done\n",
            "Building dependency tree       \n",
            "Reading state information... Done\n",
            "libportaudio2 is already the newest version (19.6.0-1).\n",
            "libportaudiocpp0 is already the newest version (19.6.0-1).\n",
            "portaudio19-dev is already the newest version (19.6.0-1).\n",
            "libasound2-dev is already the newest version (1.1.3-5ubuntu0.6).\n",
            "ffmpeg is already the newest version (7:3.4.11-0ubuntu0.1).\n",
            "The following package was automatically installed and is no longer required:\n",
            "  libnvidia-common-460\n",
            "Use 'apt autoremove' to remove it.\n",
            "0 upgraded, 0 newly installed, 0 to remove and 49 not upgraded.\n",
            "Looking in indexes: https://pypi.org/simple, https://us-python.pkg.dev/colab-wheels/public/simple/\n",
            "Requirement already satisfied: PyAudio in /usr/local/lib/python3.7/dist-packages (0.2.11)\n",
            "Looking in indexes: https://pypi.org/simple, https://us-python.pkg.dev/colab-wheels/public/simple/\n",
            "Requirement already satisfied: SpeechRecognition in /usr/local/lib/python3.7/dist-packages (3.8.1)\n",
            "Looking in indexes: https://pypi.org/simple, https://us-python.pkg.dev/colab-wheels/public/simple/\n",
            "Requirement already satisfied: gTTs in /usr/local/lib/python3.7/dist-packages (2.2.4)\n",
            "Requirement already satisfied: six in /usr/local/lib/python3.7/dist-packages (from gTTs) (1.15.0)\n",
            "Requirement already satisfied: requests in /usr/local/lib/python3.7/dist-packages (from gTTs) (2.23.0)\n",
            "Requirement already satisfied: click in /usr/local/lib/python3.7/dist-packages (from gTTs) (7.1.2)\n",
            "Requirement already satisfied: certifi>=2017.4.17 in /usr/local/lib/python3.7/dist-packages (from requests->gTTs) (2022.6.15)\n",
            "Requirement already satisfied: urllib3!=1.25.0,!=1.25.1,<1.26,>=1.21.1 in /usr/local/lib/python3.7/dist-packages (from requests->gTTs) (1.24.3)\n",
            "Requirement already satisfied: idna<3,>=2.5 in /usr/local/lib/python3.7/dist-packages (from requests->gTTs) (2.10)\n",
            "Requirement already satisfied: chardet<4,>=3.0.2 in /usr/local/lib/python3.7/dist-packages (from requests->gTTs) (3.0.4)\n",
            "Looking in indexes: https://pypi.org/simple, https://us-python.pkg.dev/colab-wheels/public/simple/\n",
            "Requirement already satisfied: playsound in /usr/local/lib/python3.7/dist-packages (1.3.0)\n"
          ]
        }
      ]
    },
    {
      "cell_type": "code",
      "execution_count": 30,
      "metadata": {
        "colab": {
          "base_uri": "https://localhost:8080/",
          "height": 391
        },
        "id": "Fr95SweuT4Y1",
        "outputId": "a5e94ea2-598e-4be2-f355-cb5d6a3aa094"
      },
      "outputs": [
        {
          "output_type": "stream",
          "name": "stderr",
          "text": [
            "WARNING:playsound:playsound is relying on another python subprocess. Please use `pip install pygobject` if you want playsound to run more efficiently.\n"
          ]
        },
        {
          "output_type": "error",
          "ename": "ModuleNotFoundError",
          "evalue": "ignored",
          "traceback": [
            "\u001b[0;31m---------------------------------------------------------------------------\u001b[0m",
            "\u001b[0;31mModuleNotFoundError\u001b[0m                       Traceback (most recent call last)",
            "\u001b[0;32m<ipython-input-30-b4a3d5cce1f8>\u001b[0m in \u001b[0;36m<module>\u001b[0;34m()\u001b[0m\n\u001b[1;32m     10\u001b[0m \u001b[0;31m# speak\u001b[0m\u001b[0;34m\u001b[0m\u001b[0;34m\u001b[0m\u001b[0;34m\u001b[0m\u001b[0m\n\u001b[1;32m     11\u001b[0m \u001b[0;32mimport\u001b[0m \u001b[0msoundfile\u001b[0m\u001b[0;34m\u001b[0m\u001b[0;34m\u001b[0m\u001b[0m\n\u001b[0;32m---> 12\u001b[0;31m \u001b[0;32mfrom\u001b[0m \u001b[0mpydub\u001b[0m \u001b[0;32mimport\u001b[0m \u001b[0mAudioSegment\u001b[0m\u001b[0;34m\u001b[0m\u001b[0;34m\u001b[0m\u001b[0m\n\u001b[0m\u001b[1;32m     13\u001b[0m \u001b[0mtrack\u001b[0m \u001b[0;34m=\u001b[0m \u001b[0mAudioSegment\u001b[0m\u001b[0;34m.\u001b[0m\u001b[0mfrom_file\u001b[0m\u001b[0;34m(\u001b[0m\u001b[0;34mr'/content/Recording.m4a'\u001b[0m\u001b[0;34m,\u001b[0m  \u001b[0mformat\u001b[0m\u001b[0;34m=\u001b[0m \u001b[0;34m'm4a'\u001b[0m\u001b[0;34m)\u001b[0m\u001b[0;34m\u001b[0m\u001b[0;34m\u001b[0m\u001b[0m\n\u001b[1;32m     14\u001b[0m \u001b[0mfile_handle\u001b[0m \u001b[0;34m=\u001b[0m \u001b[0mtrack\u001b[0m\u001b[0;34m.\u001b[0m\u001b[0mexport\u001b[0m\u001b[0;34m(\u001b[0m\u001b[0;34mr'/content/new.wav'\u001b[0m\u001b[0;34m,\u001b[0m \u001b[0mformat\u001b[0m\u001b[0;34m=\u001b[0m\u001b[0;34m'wav'\u001b[0m\u001b[0;34m)\u001b[0m\u001b[0;34m\u001b[0m\u001b[0;34m\u001b[0m\u001b[0m\n",
            "\u001b[0;31mModuleNotFoundError\u001b[0m: No module named 'pydub'",
            "",
            "\u001b[0;31m---------------------------------------------------------------------------\u001b[0;32m\nNOTE: If your import is failing due to a missing package, you can\nmanually install dependencies using either !pip or !apt.\n\nTo view examples of installing some common dependencies, click the\n\"Open Examples\" button below.\n\u001b[0;31m---------------------------------------------------------------------------\u001b[0m\n"
          ],
          "errorDetails": {
            "actions": [
              {
                "action": "open_url",
                "actionText": "Open Examples",
                "url": "/notebooks/snippets/importing_libraries.ipynb"
              }
            ]
          }
        }
      ],
      "source": [
        "import speech_recognition as sr\n",
        "from gtts import gTTS\n",
        "import playsound\n",
        "import os\n",
        "\n",
        "# Initialize the recognizer\n",
        "r = sr.Recognizer()\n",
        "\n",
        "# Loop infinitely for user to\n",
        "# speak\n",
        "import soundfile\n",
        "from pydub import AudioSegment\n",
        "track = AudioSegment.from_file(r'/content/Recording.m4a',  format= 'm4a')\n",
        "file_handle = track.export(r'/content/new.wav', format='wav')\n",
        "\n",
        "while(1):   \n",
        "     \n",
        "    # Exception handling to handle\n",
        "    # exceptions at the runtime\n",
        "    try:\n",
        "         \n",
        "        # use the microphone as source for input.\n",
        "            audio2 = r'/content/new.wav'\n",
        "            with sr.AudioFile(audio2) as source:\n",
        "              audio_source = r.record(source)  # read the entire audio file\n",
        "            # Using google to recognize audio\n",
        "            MyText = r.recognize_google(audio_source)\n",
        "            MyText = MyText.lower()\n",
        " \n",
        "            print(\"Did you say \"+MyText)\n",
        "\n",
        "            enc_model , dec_model = make_inference_models()\n",
        "\n",
        "            states_values = enc_model.predict( str_to_tokens( MyText ) )\n",
        "            empty_target_seq = np.zeros( ( 1 , 1 ) )\n",
        "            empty_target_seq[0, 0] = vie_word_dict['start']\n",
        "            stop_condition = False\n",
        "            decoded_translation = ''\n",
        "            while not stop_condition :\n",
        "                dec_outputs , h , c = dec_model.predict([ empty_target_seq ] + states_values )\n",
        "                sampled_word_index = np.argmax( dec_outputs[0, -1, :] )\n",
        "                sampled_word = None\n",
        "                for word , index in vie_word_dict.items() :\n",
        "                    if sampled_word_index == index :\n",
        "                        decoded_translation += ' {}'.format( word )\n",
        "                        sampled_word = word\n",
        "                \n",
        "                if sampled_word == 'end' or len(decoded_translation.split()) > max_output_length:\n",
        "                    stop_condition = True\n",
        "                    \n",
        "                empty_target_seq = np.zeros( ( 1 , 1 ) )  \n",
        "                empty_target_seq[ 0 , 0 ] = sampled_word_index\n",
        "                states_values = [ h , c ] \n",
        "\n",
        "            print( decoded_translation )    \n",
        "            \n",
        "            # text = \"Em nhà ở đâu thế\" \n",
        "            output = gTTS(decoded_translation, lang=\"vi\", slow=False)\n",
        "            output.save(\"output.mp3\")\n",
        "            #playsound.playsound('output.mp3', True)\n",
        "            output\n",
        "            #os.remove(\"output.mp3\")\n",
        "\n",
        "             \n",
        "    except sr.RequestError as e:\n",
        "        print(\"Could not request results; {0}\".format(e))\n",
        "         \n",
        "    except sr.UnknownValueError:\n",
        "        print(\"unknown error occured\")"
      ]
    },
    {
      "cell_type": "code",
      "source": [
        ""
      ],
      "metadata": {
        "id": "C5C43DEE3iqX"
      },
      "execution_count": null,
      "outputs": []
    }
  ],
  "metadata": {
    "colab": {
      "collapsed_sections": [
        "a_r70epHozOt",
        "Yq4aH4u1uq5V",
        "6KS5gWlcpFT1",
        "M_N71uykUPbe"
      ],
      "name": "Machine translation.ipynb",
      "provenance": []
    },
    "kernelspec": {
      "display_name": "Python 3.6.13 ('tf-older')",
      "language": "python",
      "name": "python3"
    },
    "language_info": {
      "codemirror_mode": {
        "name": "ipython",
        "version": 3
      },
      "file_extension": ".py",
      "mimetype": "text/x-python",
      "name": "python",
      "nbconvert_exporter": "python",
      "pygments_lexer": "ipython3",
      "version": "3.6.13"
    },
    "vscode": {
      "interpreter": {
        "hash": "56e30a9158a0cc829a434d6cba64b19ee75ea7478f27ef0e4c89775a79ded9fe"
      }
    },
    "gpuClass": "standard"
  },
  "nbformat": 4,
  "nbformat_minor": 0
}